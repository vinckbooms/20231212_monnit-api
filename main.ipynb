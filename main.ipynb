{
 "cells": [
  {
   "cell_type": "code",
   "execution_count": 1,
   "metadata": {},
   "outputs": [],
   "source": [
    "from APIManager import Monnit"
   ]
  },
  {
   "cell_type": "markdown",
   "metadata": {},
   "source": [
    "- Initialise une instance de la classe MonnitAPIManager.\n",
    "- Charge les paramètres depuis le fichier settings.json \n",
    "- initialise les listes pour stocker les capteurs et les données des capteurs."
   ]
  },
  {
   "cell_type": "code",
   "execution_count": 2,
   "metadata": {},
   "outputs": [
    {
     "name": "stdout",
     "output_type": "stream",
     "text": [
      "Exécution de la méthode handle_settings_file()\n",
      "\u001b[32m[INFOS] \u001b[0mParamètres chargés avec succès: {'authorization_token': 'TXZpLWJ1aWxkd2lzZTpya245SzdQNw==', 'network_id': 51442, 'sensor_list': [345749, 345754, 345757, 345765, 345769, 345774, 345776, 345777, 345783, 345785, 345787, 345788], 'start': '2023-12-12 16:30:00', 'end': '2023-12-15 5:00:00', 'interval_minutes': 10, 'verbose': True, 'log_to_file': True}\n"
     ]
    }
   ],
   "source": [
    "api = Monnit()"
   ]
  },
  {
   "cell_type": "markdown",
   "metadata": {},
   "source": [
    "# 1. Paramètres de l'application \n",
    "\n",
    "Décommenter et modifier les lignes nécessitant des modifications\n",
    "Les parramètres sont lisible dans le fichier **settings.json** \n",
    "\n",
    "Le contenu du fichier settings.json que vous avez fourni semble bien configuré avec les paramètres nécessaires pour l'interaction avec l'API Monnit. Voici une explication rapide des principaux paramètres :\n",
    "\n",
    "- authorization_token: Le jeton d'autorisation utilisé pour l'authentification auprès de l'API Monnit.\n",
    "- network_id: L'identifiant du réseau Monnit auquel les capteurs appartiennent.\n",
    "- sensor_list: Une liste d'identifiants de capteurs spécifiques dont vous souhaitez récupérer les données.\n",
    "- start: La date et l'heure de début de la plage temporelle pour la récupération des données des capteurs.\n",
    "- end: La date et l'heure de fin de la plage temporelle pour la récupération des données des capteurs.\n",
    "- interval_minutes: L'intervalle en minutes entre chaque récupération de données pour un capteur.\n",
    "- verbose: Un indicateur booléen pour déterminer si des messages de débogage doivent être affichés (true pour afficher, false pour ne pas afficher).\n"
   ]
  },
  {
   "cell_type": "code",
   "execution_count": 3,
   "metadata": {},
   "outputs": [],
   "source": [
    "# api.settings['authorization_token']  = ''"
   ]
  },
  {
   "cell_type": "markdown",
   "metadata": {},
   "source": [
    "# 2. get_network_list()\n",
    "\n",
    "Récupère la liste des réseaux et stocke les données dans self.network_list.\n",
    "\n",
    "Parameters:\n",
    "- verbose (bool): Indique si les messages de débogage doivent être affichés. Par défaut, True."
   ]
  },
  {
   "cell_type": "code",
   "execution_count": 4,
   "metadata": {},
   "outputs": [
    {
     "name": "stdout",
     "output_type": "stream",
     "text": [
      "Exécution de la méthode get_network_list()\n",
      "\u001b[32m[INFOS] \u001b[0mEnvoi de la requête : https://www.imonnit.com/json/NetworkList/TXZpLWJ1aWxkd2lzZTpya245SzdQNw==?\n",
      "Liste des réseaux présents : [{'NetworkID': 62811, 'NetworkName': 'Codyni2'}, {'NetworkID': 72252, 'NetworkName': 'Diest'}, {'NetworkID': 32885, 'NetworkName': 'ELoket'}, {'NetworkID': 63098, 'NetworkName': 'ELoket2'}, {'NetworkID': 51442, 'NetworkName': 'Labo-GBZ'}, {'NetworkID': 34004, 'NetworkName': 'Modulair'}, {'NetworkID': 34924, 'NetworkName': 'P-Renewal'}]\n"
     ]
    }
   ],
   "source": [
    "api.get_network_list()"
   ]
  },
  {
   "cell_type": "code",
   "execution_count": 5,
   "metadata": {},
   "outputs": [
    {
     "data": {
      "text/plain": [
       "[{'NetworkID': 62811, 'NetworkName': 'Codyni2'},\n",
       " {'NetworkID': 72252, 'NetworkName': 'Diest'},\n",
       " {'NetworkID': 32885, 'NetworkName': 'ELoket'},\n",
       " {'NetworkID': 63098, 'NetworkName': 'ELoket2'},\n",
       " {'NetworkID': 51442, 'NetworkName': 'Labo-GBZ'},\n",
       " {'NetworkID': 34004, 'NetworkName': 'Modulair'},\n",
       " {'NetworkID': 34924, 'NetworkName': 'P-Renewal'}]"
      ]
     },
     "execution_count": 5,
     "metadata": {},
     "output_type": "execute_result"
    }
   ],
   "source": [
    "api.network_list"
   ]
  },
  {
   "cell_type": "code",
   "execution_count": 6,
   "metadata": {},
   "outputs": [
    {
     "name": "stdout",
     "output_type": "stream",
     "text": [
      "Exécution de la méthode find_network_id()\n",
      "L'ID du réseau 'Labo-GBZ' est : 51442\n"
     ]
    }
   ],
   "source": [
    "network_name_to_find = 'Labo-GBZ'\n",
    "network_id = api.find_network_id(api.network_list, network_name_to_find)"
   ]
  },
  {
   "cell_type": "markdown",
   "metadata": {},
   "source": [
    "# 3. get_sensor_list()\n",
    "Récupère la liste des capteurs du réseau sur base d'un identifiant unique et stocke les données dans self.sensor_list.\n",
    "\n",
    "Parameters:\n",
    "- network_id (int): L'ID du réseau.\n",
    "- verbose (bool): Indique si les messages de débogage doivent être affichés. Par défaut, True."
   ]
  },
  {
   "cell_type": "code",
   "execution_count": 7,
   "metadata": {},
   "outputs": [
    {
     "name": "stdout",
     "output_type": "stream",
     "text": [
      "Exécution de la méthode get_sensor_list()\n",
      "Envoi de la requête : https://www.imonnit.com/json/SensorList/TXZpLWJ1aWxkd2lzZTpya245SzdQNw==?NetworkID=51442\n",
      "Liste des capteurs présent dans le network:[345749, 345754, 345757, 345765, 345769, 345774, 345776, 345777, 345783, 345785, 345787, 345788]\n"
     ]
    }
   ],
   "source": [
    "api.get_sensor_list(network_id=network_id)"
   ]
  },
  {
   "cell_type": "markdown",
   "metadata": {},
   "source": [
    "# 4. check_for_big_window()\n",
    "\n",
    "Vérifie si l'intervalle entre start et end est inférieur à une semaine (7 jours). Si non, divise l'intervalle en tranches d'une semaine et stocke les résultats dans self.cover_ranges.\n",
    "\n",
    "-> self.big_window = True"
   ]
  },
  {
   "cell_type": "code",
   "execution_count": 8,
   "metadata": {},
   "outputs": [],
   "source": [
    "api.settings['start'] = \"2022-12-01 16:30:00\"\n",
    "api.settings['end'] = \"2023-12-31 5:00:00\""
   ]
  },
  {
   "cell_type": "code",
   "execution_count": 9,
   "metadata": {},
   "outputs": [
    {
     "name": "stdout",
     "output_type": "stream",
     "text": [
      "Exécution de la méthode check_for_big_window()\n",
      "\u001b[33m[AVERTISSEMENT] \u001b[0m Fenêtre suppérieur à sept jour détectée\n",
      "L'intervalle initial a été ajusté en tranches d'une semaine : [('2022-12-01 16:30:00', '2022-12-08 16:30:00'), ('2022-12-08 16:30:00', '2022-12-15 16:30:00'), ('2022-12-15 16:30:00', '2022-12-22 16:30:00'), ('2022-12-22 16:30:00', '2022-12-29 16:30:00'), ('2022-12-29 16:30:00', '2023-01-05 16:30:00'), ('2023-01-05 16:30:00', '2023-01-12 16:30:00'), ('2023-01-12 16:30:00', '2023-01-19 16:30:00'), ('2023-01-19 16:30:00', '2023-01-26 16:30:00'), ('2023-01-26 16:30:00', '2023-02-02 16:30:00'), ('2023-02-02 16:30:00', '2023-02-09 16:30:00'), ('2023-02-09 16:30:00', '2023-02-16 16:30:00'), ('2023-02-16 16:30:00', '2023-02-23 16:30:00'), ('2023-02-23 16:30:00', '2023-03-02 16:30:00'), ('2023-03-02 16:30:00', '2023-03-09 16:30:00'), ('2023-03-09 16:30:00', '2023-03-16 16:30:00'), ('2023-03-16 16:30:00', '2023-03-23 16:30:00'), ('2023-03-23 16:30:00', '2023-03-30 16:30:00'), ('2023-03-30 16:30:00', '2023-04-06 16:30:00'), ('2023-04-06 16:30:00', '2023-04-13 16:30:00'), ('2023-04-13 16:30:00', '2023-04-20 16:30:00'), ('2023-04-20 16:30:00', '2023-04-27 16:30:00'), ('2023-04-27 16:30:00', '2023-05-04 16:30:00'), ('2023-05-04 16:30:00', '2023-05-11 16:30:00'), ('2023-05-11 16:30:00', '2023-05-18 16:30:00'), ('2023-05-18 16:30:00', '2023-05-25 16:30:00'), ('2023-05-25 16:30:00', '2023-06-01 16:30:00'), ('2023-06-01 16:30:00', '2023-06-08 16:30:00'), ('2023-06-08 16:30:00', '2023-06-15 16:30:00'), ('2023-06-15 16:30:00', '2023-06-22 16:30:00'), ('2023-06-22 16:30:00', '2023-06-29 16:30:00'), ('2023-06-29 16:30:00', '2023-07-06 16:30:00'), ('2023-07-06 16:30:00', '2023-07-13 16:30:00'), ('2023-07-13 16:30:00', '2023-07-20 16:30:00'), ('2023-07-20 16:30:00', '2023-07-27 16:30:00'), ('2023-07-27 16:30:00', '2023-08-03 16:30:00'), ('2023-08-03 16:30:00', '2023-08-10 16:30:00'), ('2023-08-10 16:30:00', '2023-08-17 16:30:00'), ('2023-08-17 16:30:00', '2023-08-24 16:30:00'), ('2023-08-24 16:30:00', '2023-08-31 16:30:00'), ('2023-08-31 16:30:00', '2023-09-07 16:30:00'), ('2023-09-07 16:30:00', '2023-09-14 16:30:00'), ('2023-09-14 16:30:00', '2023-09-21 16:30:00'), ('2023-09-21 16:30:00', '2023-09-28 16:30:00'), ('2023-09-28 16:30:00', '2023-10-05 16:30:00'), ('2023-10-05 16:30:00', '2023-10-12 16:30:00'), ('2023-10-12 16:30:00', '2023-10-19 16:30:00'), ('2023-10-19 16:30:00', '2023-10-26 16:30:00'), ('2023-10-26 16:30:00', '2023-11-02 16:30:00'), ('2023-11-02 16:30:00', '2023-11-09 16:30:00'), ('2023-11-09 16:30:00', '2023-11-16 16:30:00'), ('2023-11-16 16:30:00', '2023-11-23 16:30:00'), ('2023-11-23 16:30:00', '2023-11-30 16:30:00'), ('2023-11-30 16:30:00', '2023-12-07 16:30:00'), ('2023-12-07 16:30:00', '2023-12-14 16:30:00'), ('2023-12-14 16:30:00', '2023-12-21 16:30:00'), ('2023-12-21 16:30:00', '2023-12-28 16:30:00'), ('2023-12-28 16:30:00', '2023-12-31 05:00:00')]\n"
     ]
    }
   ],
   "source": [
    "api.check_for_big_window()"
   ]
  },
  {
   "cell_type": "code",
   "execution_count": 10,
   "metadata": {},
   "outputs": [
    {
     "name": "stdout",
     "output_type": "stream",
     "text": [
      "Exécution de la méthode check_for_big_window()\n",
      "\u001b[33m[AVERTISSEMENT] \u001b[0m Fenêtre suppérieur à sept jour détectée\n",
      "L'intervalle initial a été ajusté en tranches d'une semaine : [('2023-12-01 16:30:00', '2023-12-08 16:30:00'), ('2023-12-08 16:30:00', '2023-12-15 16:30:00'), ('2023-12-15 16:30:00', '2023-12-22 16:30:00'), ('2023-12-22 16:30:00', '2023-12-25 05:00:00')]\n"
     ]
    }
   ],
   "source": [
    "api.settings['start'] = \"2023-12-01 16:30:00\"\n",
    "api.settings['end'] = \"2023-12-25 5:00:00\"\n",
    "api.check_for_big_window()"
   ]
  },
  {
   "cell_type": "markdown",
   "metadata": {},
   "source": [
    "# 5. get_datprocess_data_for_sensor_id_based_on_windowa_for_one_sensor() "
   ]
  },
  {
   "cell_type": "code",
   "execution_count": 11,
   "metadata": {},
   "outputs": [],
   "source": [
    "onlyonesensor_id= api.sensor_list[0]"
   ]
  },
  {
   "cell_type": "code",
   "execution_count": 12,
   "metadata": {},
   "outputs": [
    {
     "name": "stdout",
     "output_type": "stream",
     "text": [
      "Exécution de la méthode process_data_for_sensor_id_based_on_window()\n",
      "\u001b[32m[INFOS] \u001b[0mTraitement de la plage de dates de 2023-12-01 16:30:00 à 2023-12-08 16:30:00\n",
      "Exécution de la méthode get_data_for_sensor_id()\n",
      "Envoi de la requête : https://www.imonnit.com/json/SensorDataMessages/TXZpLWJ1aWxkd2lzZTpya245SzdQNw==?sensorID=345749&fromDate=2023-12-01 16:30:00&toDate=2023-12-08 16:30:00\n",
      "\u001b[31m[ERREUR] \u001b[0mLa requête a renvoyé une réponse vide.\n"
     ]
    },
    {
     "name": "stderr",
     "output_type": "stream",
     "text": [
      "Délai imposé: 100%|██████████| 60/60 [10:00<00:00, 10.00s/s]\n"
     ]
    },
    {
     "name": "stdout",
     "output_type": "stream",
     "text": [
      "\u001b[32m[INFOS] \u001b[0mTraitement de la plage de dates de 2023-12-08 16:30:00 à 2023-12-15 16:30:00\n",
      "Exécution de la méthode get_data_for_sensor_id()\n",
      "Envoi de la requête : https://www.imonnit.com/json/SensorDataMessages/TXZpLWJ1aWxkd2lzZTpya245SzdQNw==?sensorID=345749&fromDate=2023-12-08 16:30:00&toDate=2023-12-15 16:30:00\n",
      "\u001b[32m[SUCCESS] \u001b[0mLe fichier CSV 'output\\20231208_20231215_345749.csv' a été créé avec succès.\n"
     ]
    },
    {
     "name": "stderr",
     "output_type": "stream",
     "text": [
      "Délai imposé: 100%|██████████| 60/60 [10:00<00:00, 10.00s/s]\n"
     ]
    },
    {
     "name": "stdout",
     "output_type": "stream",
     "text": [
      "\u001b[32m[INFOS] \u001b[0mTraitement de la plage de dates de 2023-12-15 16:30:00 à 2023-12-22 16:30:00\n",
      "Exécution de la méthode get_data_for_sensor_id()\n",
      "Envoi de la requête : https://www.imonnit.com/json/SensorDataMessages/TXZpLWJ1aWxkd2lzZTpya245SzdQNw==?sensorID=345749&fromDate=2023-12-15 16:30:00&toDate=2023-12-22 16:30:00\n",
      "\u001b[32m[SUCCESS] \u001b[0mLe fichier CSV 'output\\20231215_20231222_345749.csv' a été créé avec succès.\n"
     ]
    },
    {
     "name": "stderr",
     "output_type": "stream",
     "text": [
      "Délai imposé: 100%|██████████| 60/60 [10:00<00:00, 10.00s/s]\n"
     ]
    },
    {
     "name": "stdout",
     "output_type": "stream",
     "text": [
      "\u001b[32m[INFOS] \u001b[0mTraitement de la plage de dates de 2023-12-22 16:30:00 à 2023-12-25 05:00:00\n",
      "Exécution de la méthode get_data_for_sensor_id()\n",
      "Envoi de la requête : https://www.imonnit.com/json/SensorDataMessages/TXZpLWJ1aWxkd2lzZTpya245SzdQNw==?sensorID=345749&fromDate=2023-12-22 16:30:00&toDate=2023-12-25 05:00:00\n",
      "\u001b[32m[SUCCESS] \u001b[0mLe fichier CSV 'output\\20231222_20231225_345749.csv' a été créé avec succès.\n"
     ]
    },
    {
     "name": "stderr",
     "output_type": "stream",
     "text": [
      "Délai imposé: 100%|██████████| 60/60 [10:00<00:00, 10.00s/s]\n"
     ]
    }
   ],
   "source": [
    "api.process_data_for_sensor_id_based_on_window(onlyonesensor_id)"
   ]
  },
  {
   "cell_type": "markdown",
   "metadata": {},
   "source": [
    "si la fenêtre est < à sept jour "
   ]
  },
  {
   "cell_type": "code",
   "execution_count": 13,
   "metadata": {},
   "outputs": [
    {
     "data": {
      "text/plain": [
       "[345749,\n",
       " 345754,\n",
       " 345757,\n",
       " 345765,\n",
       " 345769,\n",
       " 345774,\n",
       " 345776,\n",
       " 345777,\n",
       " 345783,\n",
       " 345785,\n",
       " 345787,\n",
       " 345788]"
      ]
     },
     "execution_count": 13,
     "metadata": {},
     "output_type": "execute_result"
    }
   ],
   "source": [
    "api.sensor_list"
   ]
  },
  {
   "cell_type": "code",
   "execution_count": 14,
   "metadata": {},
   "outputs": [
    {
     "name": "stdout",
     "output_type": "stream",
     "text": [
      "Exécution de la méthode get_data_for_sensor_id()\n",
      "Envoi de la requête : https://www.imonnit.com/json/SensorDataMessages/TXZpLWJ1aWxkd2lzZTpya245SzdQNw==?sensorID=345749&fromDate=2023-12-12 16:30:00&toDate=2023-12-15 5:00:00\n",
      "\u001b[32m[SUCCESS] \u001b[0mLe fichier CSV 'output\\20231212_20231215_345749.csv' a été créé avec succès.\n"
     ]
    },
    {
     "name": "stderr",
     "output_type": "stream",
     "text": [
      "Délai imposé: 100%|██████████| 60/60 [10:00<00:00, 10.00s/s]\n"
     ]
    }
   ],
   "source": [
    "api.get_data_for_sensor_id(sensor_id=onlyonesensor_id,start=\"2023-12-12 16:30:00\",end=\"2023-12-15 5:00:00\")"
   ]
  },
  {
   "cell_type": "markdown",
   "metadata": {},
   "source": [
    "# 6. get_data_for_all_sensors()\n",
    "\n",
    "Récupère et traite les données de tous les capteurs en fonction de la fenêtre de temps spécifiée.\n",
    "\n",
    "Parameters:\n",
    "- (api.setting[\"interval_minutes\"]: 10)...\n",
    "- (api.sensor_list=[xx,xx,xx...])\n"
   ]
  },
  {
   "cell_type": "code",
   "execution_count": 15,
   "metadata": {},
   "outputs": [
    {
     "name": "stdout",
     "output_type": "stream",
     "text": [
      "Exécution de la méthode handle_settings_file()\n",
      "\u001b[32m[INFOS] \u001b[0mParamètres chargés avec succès: {'authorization_token': 'TXZpLWJ1aWxkd2lzZTpya245SzdQNw==', 'network_id': 51442, 'sensor_list': [345749, 345754, 345757, 345765, 345769, 345774, 345776, 345777, 345783, 345785, 345787, 345788], 'start': '2023-12-12 16:30:00', 'end': '2023-12-15 5:00:00', 'interval_minutes': 10, 'verbose': True, 'log_to_file': True}\n"
     ]
    }
   ],
   "source": [
    "an_another_api=Monnit()"
   ]
  },
  {
   "cell_type": "code",
   "execution_count": 16,
   "metadata": {},
   "outputs": [
    {
     "name": "stdout",
     "output_type": "stream",
     "text": [
      "Exécution de la méthode run()\n",
      "Exécution de la méthode check_for_big_window()\n",
      "L'intervale 2 days, 12:30:00 est < à 7 days, 0:00:00\n",
      "Exécution de la méthode process_data_for_sensor_list_based_on_window()\n",
      "Exécution de la méthode get_data_for_sensor_list()\n",
      "Exécution de la méthode get_data_for_sensor_id()\n",
      "Envoi de la requête : https://www.imonnit.com/json/SensorDataMessages/TXZpLWJ1aWxkd2lzZTpya245SzdQNw==?sensorID=345749&fromDate=2023-12-12 16:30:00&toDate=2023-12-15 5:00:00\n",
      "\u001b[32m[SUCCESS] \u001b[0mLe fichier CSV 'output\\20231212_20231215_345749.csv' a été créé avec succès.\n"
     ]
    },
    {
     "name": "stderr",
     "output_type": "stream",
     "text": [
      "Délai imposé: 100%|██████████| 60/60 [10:00<00:00, 10.00s/s]\n"
     ]
    },
    {
     "name": "stdout",
     "output_type": "stream",
     "text": [
      "Exécution de la méthode get_data_for_sensor_id()\n",
      "Envoi de la requête : https://www.imonnit.com/json/SensorDataMessages/TXZpLWJ1aWxkd2lzZTpya245SzdQNw==?sensorID=345754&fromDate=2023-12-12 16:30:00&toDate=2023-12-15 5:00:00\n",
      "\u001b[32m[SUCCESS] \u001b[0mLe fichier CSV 'output\\20231212_20231215_345754.csv' a été créé avec succès.\n"
     ]
    },
    {
     "name": "stderr",
     "output_type": "stream",
     "text": [
      "Délai imposé: 100%|██████████| 60/60 [10:00<00:00, 10.00s/s]\n"
     ]
    },
    {
     "name": "stdout",
     "output_type": "stream",
     "text": [
      "Exécution de la méthode get_data_for_sensor_id()\n",
      "Envoi de la requête : https://www.imonnit.com/json/SensorDataMessages/TXZpLWJ1aWxkd2lzZTpya245SzdQNw==?sensorID=345757&fromDate=2023-12-12 16:30:00&toDate=2023-12-15 5:00:00\n",
      "\u001b[32m[SUCCESS] \u001b[0mLe fichier CSV 'output\\20231212_20231215_345757.csv' a été créé avec succès.\n"
     ]
    },
    {
     "name": "stderr",
     "output_type": "stream",
     "text": [
      "Délai imposé: 100%|██████████| 60/60 [10:00<00:00, 10.00s/s]\n"
     ]
    },
    {
     "name": "stdout",
     "output_type": "stream",
     "text": [
      "Exécution de la méthode get_data_for_sensor_id()\n",
      "Envoi de la requête : https://www.imonnit.com/json/SensorDataMessages/TXZpLWJ1aWxkd2lzZTpya245SzdQNw==?sensorID=345765&fromDate=2023-12-12 16:30:00&toDate=2023-12-15 5:00:00\n",
      "\u001b[32m[SUCCESS] \u001b[0mLe fichier CSV 'output\\20231212_20231215_345765.csv' a été créé avec succès.\n"
     ]
    },
    {
     "name": "stderr",
     "output_type": "stream",
     "text": [
      "Délai imposé: 100%|██████████| 60/60 [10:00<00:00, 10.00s/s]\n"
     ]
    },
    {
     "name": "stdout",
     "output_type": "stream",
     "text": [
      "Exécution de la méthode get_data_for_sensor_id()\n",
      "Envoi de la requête : https://www.imonnit.com/json/SensorDataMessages/TXZpLWJ1aWxkd2lzZTpya245SzdQNw==?sensorID=345769&fromDate=2023-12-12 16:30:00&toDate=2023-12-15 5:00:00\n",
      "\u001b[32m[SUCCESS] \u001b[0mLe fichier CSV 'output\\20231212_20231215_345769.csv' a été créé avec succès.\n"
     ]
    },
    {
     "name": "stderr",
     "output_type": "stream",
     "text": [
      "Délai imposé: 100%|██████████| 60/60 [10:00<00:00, 10.00s/s]\n"
     ]
    },
    {
     "name": "stdout",
     "output_type": "stream",
     "text": [
      "Exécution de la méthode get_data_for_sensor_id()\n",
      "Envoi de la requête : https://www.imonnit.com/json/SensorDataMessages/TXZpLWJ1aWxkd2lzZTpya245SzdQNw==?sensorID=345774&fromDate=2023-12-12 16:30:00&toDate=2023-12-15 5:00:00\n",
      "\u001b[32m[SUCCESS] \u001b[0mLe fichier CSV 'output\\20231212_20231215_345774.csv' a été créé avec succès.\n"
     ]
    },
    {
     "name": "stderr",
     "output_type": "stream",
     "text": [
      "Délai imposé: 100%|██████████| 60/60 [10:00<00:00, 10.00s/s]\n"
     ]
    },
    {
     "name": "stdout",
     "output_type": "stream",
     "text": [
      "Exécution de la méthode get_data_for_sensor_id()\n",
      "Envoi de la requête : https://www.imonnit.com/json/SensorDataMessages/TXZpLWJ1aWxkd2lzZTpya245SzdQNw==?sensorID=345776&fromDate=2023-12-12 16:30:00&toDate=2023-12-15 5:00:00\n",
      "\u001b[32m[SUCCESS] \u001b[0mLe fichier CSV 'output\\20231212_20231215_345776.csv' a été créé avec succès.\n"
     ]
    },
    {
     "name": "stderr",
     "output_type": "stream",
     "text": [
      "Délai imposé: 100%|██████████| 60/60 [10:00<00:00, 10.00s/s]\n"
     ]
    },
    {
     "name": "stdout",
     "output_type": "stream",
     "text": [
      "Exécution de la méthode get_data_for_sensor_id()\n",
      "Envoi de la requête : https://www.imonnit.com/json/SensorDataMessages/TXZpLWJ1aWxkd2lzZTpya245SzdQNw==?sensorID=345777&fromDate=2023-12-12 16:30:00&toDate=2023-12-15 5:00:00\n",
      "\u001b[32m[SUCCESS] \u001b[0mLe fichier CSV 'output\\20231212_20231215_345777.csv' a été créé avec succès.\n"
     ]
    },
    {
     "name": "stderr",
     "output_type": "stream",
     "text": [
      "Délai imposé: 100%|██████████| 60/60 [10:00<00:00, 10.00s/s]\n"
     ]
    },
    {
     "name": "stdout",
     "output_type": "stream",
     "text": [
      "Exécution de la méthode get_data_for_sensor_id()\n",
      "Envoi de la requête : https://www.imonnit.com/json/SensorDataMessages/TXZpLWJ1aWxkd2lzZTpya245SzdQNw==?sensorID=345783&fromDate=2023-12-12 16:30:00&toDate=2023-12-15 5:00:00\n",
      "\u001b[32m[SUCCESS] \u001b[0mLe fichier CSV 'output\\20231212_20231215_345783.csv' a été créé avec succès.\n"
     ]
    },
    {
     "name": "stderr",
     "output_type": "stream",
     "text": [
      "Délai imposé:  13%|█▎        | 8/60 [01:20<08:40, 10.00s/s]"
     ]
    }
   ],
   "source": [
    "an_another_api.run()"
   ]
  }
 ],
 "metadata": {
  "kernelspec": {
   "display_name": "venv",
   "language": "python",
   "name": "python3"
  },
  "language_info": {
   "codemirror_mode": {
    "name": "ipython",
    "version": 3
   },
   "file_extension": ".py",
   "mimetype": "text/x-python",
   "name": "python",
   "nbconvert_exporter": "python",
   "pygments_lexer": "ipython3",
   "version": "3.11.6"
  }
 },
 "nbformat": 4,
 "nbformat_minor": 2
}
